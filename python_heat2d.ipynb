{
 "cells": [
  {
   "cell_type": "markdown",
   "metadata": {},
   "source": [
    "# Solving 2D Heat equation using finite differences"
   ]
  },
  {
   "cell_type": "markdown",
   "metadata": {},
   "source": [
    "Import packages "
   ]
  },
  {
   "cell_type": "code",
   "execution_count": 10,
   "metadata": {
    "collapsed": true
   },
   "outputs": [],
   "source": [
    "import numpy as np\n",
    "import matplotlib.pyplot as plt \n",
    "import sys \n",
    "import math"
   ]
  },
  {
   "cell_type": "markdown",
   "metadata": {},
   "source": [
    "Ignore Matplotlib Deprecation Warning"
   ]
  },
  {
   "cell_type": "code",
   "execution_count": 11,
   "metadata": {
    "collapsed": true
   },
   "outputs": [],
   "source": [
    "import warnings \n",
    "\n",
    "warnings.filterwarnings(\"ignore\",\".*GUI is implemented.*\")\n"
   ]
  },
  {
   "cell_type": "markdown",
   "metadata": {},
   "source": [
    "Set The Physical parameters \n"
   ]
  },
  {
   "cell_type": "code",
   "execution_count": 12,
   "metadata": {
    "collapsed": true
   },
   "outputs": [],
   "source": [
    "K    = 0.5     #Diffusion coefficient\n",
    "Lx   = 1.0     #Domain size x\n",
    "Ly   = 1.0     #Domain size y\n",
    "Time = 0.2     #Integration time\n",
    "S    = 1.0     #Source term\n"
   ]
  },
  {
   "cell_type": "markdown",
   "metadata": {},
   "source": [
    "Set The numerical parameters"
   ]
  },
  {
   "cell_type": "code",
   "execution_count": 13,
   "metadata": {
    "collapsed": true
   },
   "outputs": [],
   "source": [
    "NT = 2000            #Number of time steps\n",
    "NX = 100             #Number of grid points in x\n",
    "NY = 100             #Number of grid points in y\n",
    "dt = Time/(NT*2)     #Grid step (time)\n",
    "dx = Lx/(NX-2)       #Grid step in x (space)\n",
    "dy = Ly/(NY-21)      #Grid step in y (space)\n"
   ]
  },
  {
   "cell_type": "markdown",
   "metadata": {},
   "source": [
    "Check the Numerical stability of the problem"
   ]
  },
  {
   "cell_type": "code",
   "execution_count": 14,
   "metadata": {
    "collapsed": true
   },
   "outputs": [],
   "source": [
    "if abs(dt) > (dx*dx)/(2.0):\n",
    "    print 'Warning: Instable numerical scheme->'\n",
    "    print 'dt (%s) Must be less than: %s '%(dt,(dx*dx)/(2.0))\n",
    "    sys.exit(1)\n"
   ]
  },
  {
   "cell_type": "markdown",
   "metadata": {},
   "source": [
    "Initialize grid vectors and matrix"
   ]
  },
  {
   "cell_type": "code",
   "execution_count": 15,
   "metadata": {
    "collapsed": true
   },
   "outputs": [],
   "source": [
    "xx = np.linspace(0,Lx,NX)\n",
    "yy = np.linspace(0,Ly,NY)"
   ]
  },
  {
   "cell_type": "code",
   "execution_count": 16,
   "metadata": {
    "collapsed": true
   },
   "outputs": [],
   "source": [
    "T = np.zeros((NX,NY))\n",
    "RHS = np.zeros((NX,NY))"
   ]
  },
  {
   "cell_type": "markdown",
   "metadata": {},
   "source": [
    "Main loop (time steps)"
   ]
  },
  {
   "cell_type": "code",
   "execution_count": 17,
   "metadata": {
    "collapsed": true
   },
   "outputs": [],
   "source": [
    "for n in range(0,NT):\n",
    "   \n",
    "    RHS[1:-1,1:-1] = dt*K*( (T[:-2,1:-1]-2*T[1:-1,1:-1]+T[2:,1:-1])/(dx**2)  \\\n",
    "                         + (T[1:-1,:-2]-2*T[1:-1,1:-1]+T[1:-1,2:])/(dy**2) )\n",
    "    \n",
    "    T[1:-1,1:-1] += (RHS[1:-1,1:-1]+dt*S)\n"
   ]
  },
  {
   "cell_type": "markdown",
   "metadata": {},
   "source": [
    "Plot results (T) "
   ]
  },
  {
   "cell_type": "code",
   "execution_count": null,
   "metadata": {},
   "outputs": [],
   "source": [
    "plotlabel = \"t = %1.2f\" %(n * dt)\n",
    "plt.pcolormesh(xx,yy,T, shading='flat')\n",
    "plt.title(plotlabel)\n",
    "plt.axis('image')\n",
    "plt.draw()\n",
    "#plt.pause(0.05)\n",
    "plt.show()\n"
   ]
  }
 ],
 "metadata": {
  "kernelspec": {
   "display_name": "Python 2",
   "language": "python",
   "name": "python2"
  },
  "language_info": {
   "codemirror_mode": {
    "name": "ipython",
    "version": 2
   },
   "file_extension": ".py",
   "mimetype": "text/x-python",
   "name": "python",
   "nbconvert_exporter": "python",
   "pygments_lexer": "ipython2",
   "version": "2.7.12"
  }
 },
 "nbformat": 4,
 "nbformat_minor": 2
}
